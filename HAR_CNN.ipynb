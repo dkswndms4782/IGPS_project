{
  "nbformat": 4,
  "nbformat_minor": 0,
  "metadata": {
    "colab": {
      "name": "HAR_CNN.ipynb",
      "provenance": [],
      "collapsed_sections": []
    },
    "kernelspec": {
      "name": "python3",
      "display_name": "Python 3"
    }
  },
  "cells": [
    {
      "cell_type": "code",
      "metadata": {
        "id": "YpjJdxO9_SiN",
        "colab_type": "code",
        "colab": {
          "base_uri": "https://localhost:8080/",
          "height": 52
        },
        "outputId": "2ab68f1d-d810-474a-d4c0-21968ce8cb40"
      },
      "source": [
        "import numpy as np \n",
        "import pandas as pd\n",
        "import torch\n",
        "import matplotlib.pyplot as plt\n",
        "import seaborn as sns\n",
        "from google.colab import drive\n",
        "drive.mount('/gdrive')\n",
        "drive.mount('/content/gdrive')\n",
        "\n",
        "import torch\n",
        "import torch.nn as nn\n",
        "import torchvision.datasets as dsets\n",
        "import torchvision.transforms as transforms\n",
        "import torch.nn.init\n",
        "#tensor data여야함\n",
        "\n",
        "import numpy as np \n",
        "from torch.autograd import Variable \n",
        "from torch.utils.data import Dataset, DataLoader"
      ],
      "execution_count": null,
      "outputs": [
        {
          "output_type": "stream",
          "text": [
            "Mounted at /gdrive\n",
            "Mounted at /content/gdrive\n"
          ],
          "name": "stdout"
        }
      ]
    },
    {
      "cell_type": "code",
      "metadata": {
        "id": "wFCvz6-sZDbZ",
        "colab_type": "code",
        "colab": {}
      },
      "source": [
        "class TrainDataset(Dataset): \n",
        "  # Initialize your data, download, etc. \n",
        "  def __init__(self): \n",
        "    xy = pd.read_csv('./gdrive/My Drive/HAR CNN/train.csv')\n",
        "    i = 0\n",
        "    for row in xy['Activity']:\n",
        "      if row == \"WALKING\":\n",
        "        xy['Activity'][i] = 0\n",
        "        i += 1\n",
        "      elif row == \"WALKING_UPSTAIRS\":\n",
        "         xy['Activity'][i] = 1\n",
        "         i += 1\n",
        "      elif row == \"WALKING_DOWNSTAIRS\":\n",
        "          xy['Activity'][i] = 2\n",
        "          i += 1\n",
        "      elif row == \"SITTING\":\n",
        "          xy['Activity'][i] = 3\n",
        "          i += 1\n",
        "      elif row == \"STANDING\":\n",
        "          xy['Activity'][i] = 4\n",
        "          i += 1\n",
        "      elif row == \"LAYING\":\n",
        "          xy['Activity'][i] = 5\n",
        "          i += 1\n",
        "      else :\n",
        "        i += 1\n",
        "    xy = np.array(xy,dtype = np.double())\n",
        "    xy = np.expand_dims(xy,axis = 2)\n",
        "    self.len = xy.shape[0] \n",
        "    self.x_data = torch.from_numpy(xy[:, 0:-1]) \n",
        "    self.y_data = torch.from_numpy(xy[:, [-1]]) \n",
        "    \n",
        "  def __getitem__(self, index): \n",
        "    return self.x_data[index], self.y_data[index] \n",
        "    \n",
        "  def __len__(self): \n",
        "    return self.len\n"
      ],
      "execution_count": null,
      "outputs": []
    },
    {
      "cell_type": "code",
      "metadata": {
        "id": "NHmMxcmPZkvT",
        "colab_type": "code",
        "colab": {}
      },
      "source": [
        "class TestDataset(Dataset): \n",
        "  # Initialize your data, download, etc. \n",
        "  def __init__(self): \n",
        "    xy = pd.read_csv('./gdrive/My Drive/HAR CNN/test.csv')\n",
        "    i = 0\n",
        "    for row in xy['Activity']:\n",
        "      if row == \"WALKING\":\n",
        "        xy['Activity'][i] = 0\n",
        "        i += 1\n",
        "      elif row == \"WALKING_UPSTAIRS\":\n",
        "         xy['Activity'][i] = 1\n",
        "         i += 1\n",
        "      elif row == \"WALKING_DOWNSTAIRS\":\n",
        "          xy['Activity'][i] = 2\n",
        "          i += 1\n",
        "      elif row == \"SITTING\":\n",
        "          xy['Activity'][i] = 3\n",
        "          i += 1\n",
        "      elif row == \"STANDING\":\n",
        "          xy['Activity'][i] = 4\n",
        "          i += 1\n",
        "      elif row == \"LAYING\":\n",
        "          xy['Activity'][i] = 5\n",
        "          i += 1\n",
        "      else :\n",
        "        i += 1\n",
        "    xy = np.array(xy,dtype = np.double())\n",
        "    xy = np.expand_dims(xy,axis = 2)\n",
        "    self.len = xy.shape[0] \n",
        "    self.x_data = torch.from_numpy(xy[:, 0:-1]) \n",
        "    self.y_data = torch.from_numpy(xy[:, [-1]]) \n",
        "    \n",
        "  def __getitem__(self, index): \n",
        "    return self.x_data[index], self.y_data[index] \n",
        "    \n",
        "  def __len__(self): \n",
        "    return self.len\n"
      ],
      "execution_count": null,
      "outputs": []
    },
    {
      "cell_type": "code",
      "metadata": {
        "id": "rSTQivU_mFZa",
        "colab_type": "code",
        "colab": {
          "base_uri": "https://localhost:8080/",
          "height": 485
        },
        "outputId": "9835903e-1bcc-4222-8f4a-c713e7e86600"
      },
      "source": [
        "train = TrainDataset()\n",
        "test = TestDataset()"
      ],
      "execution_count": null,
      "outputs": [
        {
          "output_type": "stream",
          "text": [
            "/usr/local/lib/python3.6/dist-packages/ipykernel_launcher.py:20: SettingWithCopyWarning: \n",
            "A value is trying to be set on a copy of a slice from a DataFrame\n",
            "\n",
            "See the caveats in the documentation: https://pandas.pydata.org/pandas-docs/stable/user_guide/indexing.html#returning-a-view-versus-a-copy\n",
            "/usr/local/lib/python3.6/dist-packages/ipykernel_launcher.py:17: SettingWithCopyWarning: \n",
            "A value is trying to be set on a copy of a slice from a DataFrame\n",
            "\n",
            "See the caveats in the documentation: https://pandas.pydata.org/pandas-docs/stable/user_guide/indexing.html#returning-a-view-versus-a-copy\n",
            "/usr/local/lib/python3.6/dist-packages/ipykernel_launcher.py:23: SettingWithCopyWarning: \n",
            "A value is trying to be set on a copy of a slice from a DataFrame\n",
            "\n",
            "See the caveats in the documentation: https://pandas.pydata.org/pandas-docs/stable/user_guide/indexing.html#returning-a-view-versus-a-copy\n",
            "/usr/local/lib/python3.6/dist-packages/ipykernel_launcher.py:8: SettingWithCopyWarning: \n",
            "A value is trying to be set on a copy of a slice from a DataFrame\n",
            "\n",
            "See the caveats in the documentation: https://pandas.pydata.org/pandas-docs/stable/user_guide/indexing.html#returning-a-view-versus-a-copy\n",
            "  \n",
            "/usr/local/lib/python3.6/dist-packages/ipykernel_launcher.py:14: SettingWithCopyWarning: \n",
            "A value is trying to be set on a copy of a slice from a DataFrame\n",
            "\n",
            "See the caveats in the documentation: https://pandas.pydata.org/pandas-docs/stable/user_guide/indexing.html#returning-a-view-versus-a-copy\n",
            "  \n",
            "/usr/local/lib/python3.6/dist-packages/ipykernel_launcher.py:11: SettingWithCopyWarning: \n",
            "A value is trying to be set on a copy of a slice from a DataFrame\n",
            "\n",
            "See the caveats in the documentation: https://pandas.pydata.org/pandas-docs/stable/user_guide/indexing.html#returning-a-view-versus-a-copy\n",
            "  # This is added back by InteractiveShellApp.init_path()\n"
          ],
          "name": "stderr"
        }
      ]
    },
    {
      "cell_type": "code",
      "metadata": {
        "id": "-0oHzcluB_ii",
        "colab_type": "code",
        "colab": {}
      },
      "source": [
        "#parameters\n",
        "learning_rate = 0.01\n",
        "batch_size = 100\n",
        "epochs = 10"
      ],
      "execution_count": null,
      "outputs": []
    },
    {
      "cell_type": "code",
      "metadata": {
        "id": "vuWrwYHcML_V",
        "colab_type": "code",
        "colab": {}
      },
      "source": [
        "device = 'cuda' if torch.cuda.is_available() else 'cpu'\n",
        "\n",
        "torch.manual_seed(777)\n",
        "if device == 'cuda':\n",
        "  torch.cuda.manual_seed_all(777)"
      ],
      "execution_count": null,
      "outputs": []
    },
    {
      "cell_type": "code",
      "metadata": {
        "id": "Jqk9yx8-KWNR",
        "colab_type": "code",
        "colab": {}
      },
      "source": [
        "train_loader = torch.utils.data.DataLoader(dataset = train,\n",
        "                                          batch_size = batch_size,\n",
        "                                          shuffle = True,\n",
        "                                          drop_last = True)"
      ],
      "execution_count": null,
      "outputs": []
    },
    {
      "cell_type": "code",
      "metadata": {
        "id": "b93nmBTdUtDq",
        "colab_type": "code",
        "colab": {}
      },
      "source": [
        "class CNN(nn.Module):\n",
        "  def __init__(self):\n",
        "    super(CNN,self).__init__()\n",
        "    self.keep_prob = 0.5\n",
        "    self.layer1 = nn.Sequential(\n",
        "        nn.Conv1d(562,32,kernel_size = 3,stride =1, padding = 1),\n",
        "        nn.ReLU(),\n",
        "        nn.MaxPool1d(kernel_size = 2,stride = 2,padding=1)\n",
        "    )\n",
        "    self.layer2 = nn.Sequential(\n",
        "        nn.Conv1d(32,64,kernel_size = 3,stride = 1,padding = 1),\n",
        "        nn.ReLU(),\n",
        "        nn.MaxPool1d(kernel_size = 2,stride = 2,padding=1)\n",
        "    )\n",
        "    self.layer3 = nn.Sequential(\n",
        "            nn.Conv1d(64, 128, kernel_size=3, stride=1, padding=1),\n",
        "            nn.ReLU(),\n",
        "            nn.MaxPool1d(kernel_size=2, stride=2, padding=1))\n",
        "    self.fc1 = nn.Linear(128,128,bias = True)\n",
        "    torch.nn.init.xavier_uniform_(self.fc1.weight)\n",
        "    self.layer4 = nn.Sequential(\n",
        "        self.fc1,\n",
        "        nn.ReLU(),\n",
        "        nn.Dropout(p = 1 - self.keep_prob))\n",
        "    self.fc2 = nn.Linear(128,6,bias = True)\n",
        "    nn.init.xavier_uniform_(self.fc2.weight)\n",
        "    \n",
        "\n",
        "  def forward(self,x):\n",
        "    out = self.layer1(x)\n",
        "    out = self.layer2(out)\n",
        "    out = self.layer3(out)\n",
        "    out = out.view(out.size(0),-1)\n",
        "    out = self.layer4(out)\n",
        "    out = self.fc2(out)\n",
        "    return out"
      ],
      "execution_count": null,
      "outputs": []
    },
    {
      "cell_type": "code",
      "metadata": {
        "id": "mis2fWkmUwYf",
        "colab_type": "code",
        "colab": {}
      },
      "source": [
        "model = CNN().to(device)\n",
        "model = model.double()"
      ],
      "execution_count": null,
      "outputs": []
    },
    {
      "cell_type": "code",
      "metadata": {
        "id": "YWw667elUxll",
        "colab_type": "code",
        "colab": {}
      },
      "source": [
        "criterion = nn.CrossEntropyLoss().to(device)\n",
        "optimizer = torch.optim.Adam(model.parameters(),lr = learning_rate)"
      ],
      "execution_count": null,
      "outputs": []
    },
    {
      "cell_type": "code",
      "metadata": {
        "id": "dfJE2EadUzVG",
        "colab_type": "code",
        "colab": {}
      },
      "source": [
        "total_batch = train.len"
      ],
      "execution_count": null,
      "outputs": []
    },
    {
      "cell_type": "code",
      "metadata": {
        "id": "5rE6-aFxU1Hf",
        "colab_type": "code",
        "colab": {
          "base_uri": "https://localhost:8080/",
          "height": 262
        },
        "outputId": "408dae61-b3e2-40fc-e789-a6c9090442d3"
      },
      "source": [
        "for epoch in range(epochs):\n",
        "  avg_cost = 0\n",
        "  for X,Y in train:\n",
        "    X = X.to(device)\n",
        "    Y = Y.to(device)\n",
        "    Y = np.squeeze(Y,axis = 1)\n",
        "    Y = torch.tensor(Y)\n",
        "    Y = Y.long()\n",
        "\n",
        "    X = np.expand_dims(X,axis = 0)\n",
        "    X = torch.tensor(X)\n",
        "    optimizer.zero_grad()\n",
        "    hypothesis = model(X)\n",
        "\n",
        "\n",
        "    cost = criterion(hypothesis,Y)\n",
        "    cost.backward()\n",
        "    optimizer.step()\n",
        "    \n",
        "    avg_cost += cost / total_batch\n",
        "  print('[Epoch : {}] cost = {}'.format(epoch+1,avg_cost))\n",
        "print('Learning Finished!')"
      ],
      "execution_count": null,
      "outputs": [
        {
          "output_type": "stream",
          "text": [
            "/usr/local/lib/python3.6/dist-packages/ipykernel_launcher.py:7: UserWarning: To copy construct from a tensor, it is recommended to use sourceTensor.clone().detach() or sourceTensor.clone().detach().requires_grad_(True), rather than torch.tensor(sourceTensor).\n",
            "  import sys\n"
          ],
          "name": "stderr"
        },
        {
          "output_type": "stream",
          "text": [
            "[Epoch : 1] cost = 2.588251278335145\n",
            "[Epoch : 2] cost = 2.2576616348885574\n",
            "[Epoch : 3] cost = 1.927013764485113\n",
            "[Epoch : 4] cost = 1.8883406158664289\n",
            "[Epoch : 5] cost = 1.9227959440173283\n",
            "[Epoch : 6] cost = 1.9079118008803153\n",
            "[Epoch : 7] cost = 2.0490296582287866\n",
            "[Epoch : 8] cost = 1.9004804367138932\n",
            "[Epoch : 9] cost = 1.9330782404667983\n",
            "[Epoch : 10] cost = 1.895991482825986\n",
            "Learning Finished!\n"
          ],
          "name": "stdout"
        }
      ]
    },
    {
      "cell_type": "code",
      "metadata": {
        "id": "JKqYhpR6prma",
        "colab_type": "code",
        "colab": {
          "base_uri": "https://localhost:8080/",
          "height": 262
        },
        "outputId": "fbba8dfa-1d8e-49ab-9105-37e7d72599e1"
      },
      "source": [
        "\"\"\"\n",
        "for epoch in range(epochs):\n",
        "  avg_cost = 0\n",
        "  X = train.x_data.to(device)\n",
        "  Y = train.y_data.to(device)\n",
        "  Y = np.squeeze(Y,axis = 1)\n",
        "  Y = np.squeeze(Y,axis = 1)\n",
        "  Y = torch.tensor(Y)\n",
        "  Y = Y.long()\n",
        "\n",
        "\n",
        "  optimizer.zero_grad()\n",
        "  hypothesis = model(X)\n",
        "  hypothesis = np.squeeze(hypothesis,axis = 1)\n",
        "\n",
        "\n",
        "  cost = criterion(hypothesis,Y)\n",
        "  cost.backward()\n",
        "  optimizer.step()\n",
        "    \n",
        "  avg_cost += cost / total_batch\n",
        "  print('[Epoch : {}] cost = {}'.format(epoch+1,avg_cost))\n",
        "print('Learning Finished!')\n",
        "\"\"\""
      ],
      "execution_count": null,
      "outputs": [
        {
          "output_type": "stream",
          "text": [
            "/usr/local/lib/python3.6/dist-packages/ipykernel_launcher.py:7: UserWarning: To copy construct from a tensor, it is recommended to use sourceTensor.clone().detach() or sourceTensor.clone().detach().requires_grad_(True), rather than torch.tensor(sourceTensor).\n",
            "  import sys\n"
          ],
          "name": "stderr"
        },
        {
          "output_type": "stream",
          "text": [
            "[Epoch : 1] cost = 0.00015992283863412312\n",
            "[Epoch : 2] cost = 0.0001527961837684768\n",
            "[Epoch : 3] cost = 0.00014873511644012476\n",
            "[Epoch : 4] cost = 0.00014301520515087605\n",
            "[Epoch : 5] cost = 0.0001362491165197125\n",
            "[Epoch : 6] cost = 0.00012837921408951158\n",
            "[Epoch : 7] cost = 0.00012239266277640502\n",
            "[Epoch : 8] cost = 0.00012942571011784573\n",
            "[Epoch : 9] cost = 0.00012431053141236085\n",
            "[Epoch : 10] cost = 0.0001067760461185084\n",
            "Learning Finished!\n"
          ],
          "name": "stdout"
        }
      ]
    },
    {
      "cell_type": "code",
      "metadata": {
        "id": "er4wceRcU2m2",
        "colab_type": "code",
        "colab": {
          "base_uri": "https://localhost:8080/",
          "height": 34
        },
        "outputId": "f34d28c6-f5a9-4d4b-84b6-89191e99e226"
      },
      "source": [
        "with torch.no_grad():\n",
        "  X_test = test.x_data.double().to(device)\n",
        "  Y_test = test.y_data.to(device)\n",
        "\n",
        "  prediction = model(X_test)\n",
        "  correct_prediction = torch.argmax(prediction,1) == Y_test\n",
        "  accuracy = correct_prediction.float().mean()\n",
        "  print('Accuracy:',accuracy.item())"
      ],
      "execution_count": null,
      "outputs": [
        {
          "output_type": "stream",
          "text": [
            "Accuracy: 0.1425178200006485\n"
          ],
          "name": "stdout"
        }
      ]
    },
    {
      "cell_type": "code",
      "metadata": {
        "id": "B6gyv7U12vA6",
        "colab_type": "code",
        "colab": {}
      },
      "source": [
        ""
      ],
      "execution_count": null,
      "outputs": []
    }
  ]
}